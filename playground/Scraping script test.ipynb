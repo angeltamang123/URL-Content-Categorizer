{
 "cells": [
  {
   "cell_type": "code",
   "execution_count": 2,
   "id": "1ea46ec7-1ce6-4b55-9394-46e043e85ebc",
   "metadata": {},
   "outputs": [
    {
     "name": "stdout",
     "output_type": "stream",
     "text": [
      "<re.Match object; span=(0, 22), match='http://www.example.com'>\n",
      "True\n",
      "'http://www.example.com' is a valid URL.\n",
      "<re.Match object; span=(0, 38), match='https://example.co.uk/path?query=value'>\n",
      "True\n",
      "'https://example.co.uk/path?query=value' is a valid URL.\n",
      "<re.Match object; span=(0, 15), match='www.example.com'>\n",
      "True\n",
      "'www.example.com' is a valid URL.\n",
      "<re.Match object; span=(0, 11), match='example.com'>\n",
      "True\n",
      "'example.com' is a valid URL.\n",
      "None\n",
      "False\n",
      "'invalid url' is not a valid URL.\n",
      "<re.Match object; span=(0, 29), match='https://example.com:8080/path'>\n",
      "True\n",
      "'https://example.com:8080/path' is a valid URL.\n"
     ]
    }
   ],
   "source": [
    "import re\n",
    "\n",
    "def is_valid_url(url_string):\n",
    "    \"\"\"\n",
    "    Checks if a string is a valid URL using regex.\n",
    "    \"\"\"\n",
    "    url_pattern = r\"^(https?://)?\"  # Optional http or https\n",
    "    url_pattern += r\"([a-zA-Z0-9-]+\\.)+[a-zA-Z]{2,}\"  # Domain name\n",
    "    url_pattern += r\"(:[0-9]+)?\"  # Optional port number\n",
    "    url_pattern += r\"(/.*)?$\"  # Optional path and query parameters\n",
    "\n",
    "    match = re.match(url_pattern, url_string)\n",
    "    print(match)\n",
    "    print(bool(match))\n",
    "    return bool(match)\n",
    "\n",
    "\n",
    "# Example Usage\n",
    "urls = [\n",
    "    \"http://www.example.com\",\n",
    "    \"https://example.co.uk/path?query=value\",\n",
    "    \"www.example.com\",\n",
    "    \"example.com\",\n",
    "    \"invalid url\",\n",
    "    \"https://example.com:8080/path\"\n",
    "]\n",
    "\n",
    "for url in urls:\n",
    "    if is_valid_url(url):\n",
    "        print(f\"'{url}' is a valid URL.\")\n",
    "    else:\n",
    "        print(f\"'{url}' is not a valid URL.\")"
   ]
  },
  {
   "cell_type": "code",
   "execution_count": 4,
   "id": "84d2b54b-8036-437d-8d61-90edcdf417f1",
   "metadata": {},
   "outputs": [
    {
     "data": {
      "text/plain": [
       "True"
      ]
     },
     "execution_count": 4,
     "metadata": {},
     "output_type": "execute_result"
    }
   ],
   "source": [
    "import sys\n",
    "def detect_interactive_environment():\n",
    "            return hasattr(sys, 'ps1') or sys.flags.interactive or \"ipykernel\" in sys.modules\n",
    "\n",
    "detect_interactive_environment()"
   ]
  }
 ],
 "metadata": {
  "kernelspec": {
   "display_name": "Python 3 (ipykernel)",
   "language": "python",
   "name": "python3"
  },
  "language_info": {
   "codemirror_mode": {
    "name": "ipython",
    "version": 3
   },
   "file_extension": ".py",
   "mimetype": "text/x-python",
   "name": "python",
   "nbconvert_exporter": "python",
   "pygments_lexer": "ipython3",
   "version": "3.11.4"
  }
 },
 "nbformat": 4,
 "nbformat_minor": 5
}
